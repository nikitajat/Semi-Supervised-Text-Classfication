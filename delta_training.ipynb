{
  "nbformat": 4,
  "nbformat_minor": 0,
  "metadata": {
    "colab": {
      "name": "delta-training.ipynb",
      "provenance": [],
      "collapsed_sections": []
    },
    "kernelspec": {
      "name": "python3",
      "display_name": "Python 3"
    },
    "accelerator": "GPU"
  },
  "cells": [
    {
      "cell_type": "code",
      "metadata": {
        "id": "w2TZz7OIjk_6"
      },
      "source": [
        "import re\r\n",
        "\r\n",
        "import os\r\n",
        "import pandas as pd\r\n",
        "from numpy.random import RandomState\r\n",
        "import numpy as np\r\n",
        "\r\n",
        "import torchtext\r\n",
        "from torchtext.data import Field\r\n",
        "from torchtext.data import TabularDataset\r\n",
        "import torchtext.vocab as vocab\r\n",
        "from torchtext.vocab import GloVe\r\n",
        "from torchtext.data import Iterator, BucketIterator\r\n",
        "import torchtext.datasets\r\n",
        "from torchtext.datasets import IMDB, SST\r\n",
        "\r\n",
        "import spacy\r\n",
        "\r\n",
        "import torch\r\n",
        "import torch.nn as nn\r\n",
        "import torch.optim as optim\r\n",
        "import torch.nn.functional as F\r\n",
        "\r\n",
        "import matplotlib.pyplot as plt\r\n",
        "\r\n",
        "from sklearn.model_selection import train_test_split as t"
      ],
      "execution_count": null,
      "outputs": []
    },
    {
      "cell_type": "code",
      "metadata": {
        "id": "g1YmL6FWnssw"
      },
      "source": [
        "#%% Text CNN model\r\n",
        "class textCNN(nn.Module):\r\n",
        "  \r\n",
        "    \r\n",
        "    def __init__(self, vocab_built, emb_dim, dim_channel, kernel_wins, num_class, rand=False):\r\n",
        "        super(textCNN, self).__init__()\r\n",
        "        #load pretrained embedding in embedding layer.\r\n",
        "        self.embed = nn.Embedding(len(vocab_built), emb_dim)\r\n",
        "        if rand==False:\r\n",
        "          self.embed.weight.data.copy_(vocab_built.vectors)\r\n",
        "        \r\n",
        "        #### freezing embedding layer\r\n",
        "        self.embed.weight.requires_grad = False\r\n",
        "    \r\n",
        "        #Convolutional Layers with different window size kernels\r\n",
        "        self.convs = nn.ModuleList([nn.Conv2d(1, dim_channel, (w, emb_dim)) for w in kernel_wins])\r\n",
        "        #self.convs = nn.ModuleList([nn.Conv2d(3, dim_channel, (w, emb_dim)) for w in kernel_wins])\r\n",
        "        #Dropout layer\r\n",
        "        self.dropout = nn.Dropout(0.3)\r\n",
        "        \r\n",
        "        #FC layer\r\n",
        "        \r\n",
        "        self.fc = nn.Linear(len(kernel_wins)*dim_channel, num_class)\r\n",
        "        \r\n",
        "    def forward(self, x):\r\n",
        "        emb_x = self.embed(x)\r\n",
        "        emb_x = emb_x.unsqueeze(1)\r\n",
        "\r\n",
        "        con_x = [conv(emb_x) for conv in self.convs]\r\n",
        "\r\n",
        "        pool_x = [F.max_pool1d(x.squeeze(-1), x.size()[2]) for x in con_x]\r\n",
        "        \r\n",
        "        fc_x = torch.cat(pool_x, dim=1)\r\n",
        "        \r\n",
        "        fc_x = fc_x.squeeze(-1)\r\n",
        "        \r\n",
        "        fc_x = self.dropout(fc_x)\r\n",
        "        logit = self.fc(fc_x)\r\n",
        "        return logit\r\n",
        "\r\n",
        "    def predict(self, x):\r\n",
        "        with torch.no_grad():\r\n",
        "          out = self.forward(x)\r\n",
        "          result = torch.max(out,1)[1]\r\n",
        "          return result\r\n",
        "\r\n"
      ],
      "execution_count": null,
      "outputs": []
    },
    {
      "cell_type": "code",
      "metadata": {
        "id": "lfkZC8FnVkK5"
      },
      "source": [
        "def training(model, trainloader, valloader, max_epoch=50):\n",
        "    criterion = nn.CrossEntropyLoss()\n",
        "    optimizer = optim.Adam(model.parameters(), lr = 0.001)\n",
        "    device = torch.device(\"cuda\" if torch.cuda.is_available() else \"cpu\")\n",
        "    model.to(device)\n",
        "    train_loss = []\n",
        "    val_acc = []\n",
        "\n",
        "    for epoch in range(max_epoch):\n",
        "        ##### trainig ########\n",
        "        total_train_loss=0.0\n",
        "        model.train()\n",
        "        for i,batch in enumerate(trainloader):\n",
        "            inp, labels = batch.text.to(device), batch.label.to(device)\n",
        "            inp = torch.transpose(inp,0,1)\n",
        "            labels.data.sub_(1)\n",
        "            optimizer.zero_grad()\n",
        "            out = model(inp)\n",
        "            loss = criterion(out,labels)\n",
        "            loss.backward()\n",
        "            optimizer.step()\n",
        "            total_train_loss += loss.item()\n",
        "        \n",
        "        train_loss.append(total_train_loss)\n",
        "        total_train_loss /= len(trainloader)\n",
        "        \n",
        "\n",
        "        print(\"epoch: {}  train_loss: {}\".format(epoch+1,total_train_loss))\n",
        "\n",
        "        #### evaluation ######\n",
        "        model.eval()\n",
        "        corrects= 0\n",
        "        total_test_loss = 0\n",
        "        with torch.no_grad():\n",
        "            for i, batch in enumerate(valloader):\n",
        "                inp, labels = batch.text.to(device), batch.label.to(device)\n",
        "                inp = torch.transpose(inp,0,1)\n",
        "                labels.data.sub_(1)\n",
        "                out = model(inp)\n",
        "                loss = criterion(out,labels)\n",
        "                total_test_loss += loss.item()\n",
        "                result = torch.max(out,1)[1]\n",
        "                corrects += (result.view(labels.size()).data == labels.data).sum()\n",
        "\n",
        "        total_test_loss /= len(valloader)\n",
        "        val_acc.append(corrects/len(valloader.dataset))\n",
        "        print(\"epoch: {} validation loss: {} accuracy: {}\".format(epoch+1, total_test_loss, corrects/len(valloader.dataset)))\n",
        "        \n",
        "\n",
        "    return model,train_loss,val_acc\n"
      ],
      "execution_count": null,
      "outputs": []
    },
    {
      "cell_type": "code",
      "metadata": {
        "id": "c2SWmcOP5Bjl"
      },
      "source": [
        "def delta_training(iterations: int,n_embmodels: int, n_randmodels: int, train_iter, test_iter,vec,vocab,TEXT, LABEL):\n",
        "    device = torch.device(\"cuda\" if torch.cuda.is_available() else \"cpu\")\n",
        "    for iter in range(iterations):\n",
        "        max_epoch = int(np.ceil((-np.log(iter+1)+2)*5))\n",
        "        #max_epoch=1\n",
        "        print(\"Iteration: {}, max_epochs: {}\".format(iter+1,max_epoch))\n",
        "        print(\"labeled_examples: {}\".format(len(train_iter.dataset)))\n",
        "        #### training of pre-trained embedding models\n",
        "        emb_models = []\n",
        "        for i in range(n_embmodels):\n",
        "            print(\"embedd model: \",i+1)\n",
        "            model = textCNN(vocab, 300, 100, [3,4,5] , 6)\n",
        "            model, emb_model_loss, val_acc_e = training(model, train_iter, test_iter, max_epoch = max_epoch)\n",
        "            emb_models.append(model)\n",
        "\n",
        "        #### training of random embedding models\n",
        "        rand_models = []\n",
        "        for i in range(n_randmodels):\n",
        "            print(\"random model: \",i+1)\n",
        "            model = textCNN(vocab, 300, 100, [3,4,5] , 6, rand=True)\n",
        "            model, rand_model_loss, val_acc_r = training(model, train_iter, test_iter, max_epoch = max_epoch)\n",
        "            rand_models.append(model)\n",
        "\n",
        "        \n",
        "        #### getting outputs from emb models and rand models for the unlabeled data\n",
        "        #### and taking only those datapoints which got same labels for all emb models and that label is different\n",
        "        #### from what random model predicted\n",
        "        index_labels = []\n",
        "        '''\n",
        "        for ind,sample in enumerate(unlabeled_iter):\n",
        "            emb_pred = []\n",
        "            inp = torch.transpose(sample.text.to(device),0,1)\n",
        "            for model in emb_models: \n",
        "                emb_pred.append(model.predict(inp))\n",
        "\n",
        "            if all(item == emb_pred[0] for item in emb_pred):\n",
        "                rand_pred = []\n",
        "                for model in rand_models:\n",
        "                    rand_pred.append(model.predict(inp))\n",
        "                \n",
        "                if all(item == rand_pred[0] for item in rand_pred):\n",
        "                    if emb_pred[0]!=rand_pred[0]:\n",
        "                        index_labels.append([ind,emb_pred[0].item()+1])\n",
        "\n",
        "        '''\n",
        "\n",
        "\n",
        "        \n",
        "        temp2 = pd.read_csv('./unlabeled.csv')\n",
        "        for i in range(len(temp2['review'])):\n",
        "            sample = torchtext.data.Dataset([temp2.loc[i]], {'review':TEXT})\n",
        "            unlabeled_iter = Iterator(sample, batch_size=1,train = False,sort_within_batch=False,shuffle = False,repeat=False,sort=False)\n",
        "            _,sample =  next(enumerate(unlabeled_iter))\n",
        "            emb_pred = []\n",
        "            inp = torch.transpose(sample.review.to(device),0,1)\n",
        "            for model in emb_models: \n",
        "                emb_pred.append(model.predict(inp))\n",
        "\n",
        "            if all(item == emb_pred[0] for item in emb_pred):\n",
        "                rand_pred = []\n",
        "                for model in rand_models:\n",
        "                    rand_pred.append(model.predict(inp))\n",
        "                \n",
        "                if all(item == rand_pred[0] for item in rand_pred):\n",
        "                    if emb_pred[0]!=rand_pred[0]:\n",
        "                        index_labels.append([i,emb_pred[0].item()+1])\n",
        "        \n",
        "        print(\"{} Sudo labels generated\".format(len(index_labels)))\n",
        "\n",
        "        #### adding recently labeled samples to labeled data\n",
        "        \n",
        "        temp2 = pd.read_csv('./unlabeled.csv')\n",
        "        dic = {}\n",
        "        dic['review'] = []\n",
        "        dic['sentiment'] = []\n",
        "        only_indexes = []\n",
        "        for ind in index_labels:\n",
        "            only_indexes.append(ind[0])\n",
        "            dic['review'].append(temp2['review'].loc[ind[0]])\n",
        "            dic['sentiment'].append(LABEL.vocab.itos[ind[1]] )\n",
        "        dic = pd.DataFrame(dic)\n",
        "        temp1 = pd.read_csv('./train.csv')\n",
        "        temp1 = temp1.append(dic,ignore_index=True)\n",
        "        temp1.to_csv('./train.csv', index=False)\n",
        "        #### deleting label generated examples from unlabeled data\n",
        "        temp2 = temp2.drop(only_indexes,axis=0)\n",
        "        temp2.to_csv('./unlabeled.csv', index=False)\n",
        "\n",
        "\n",
        "        ##########################################################################################\n",
        "        #####                       Again data preparation                                   #####\n",
        "        ##########################################################################################\n",
        "\n",
        "        #Creating field for text and label\n",
        "        TEXT = Field(sequential=True, tokenize=tokenizer, lower=True)\n",
        "        LABEL = Field(sequential=False)\n",
        "\n",
        "        #clean the text\n",
        "        TEXT.preprocessing = torchtext.data.Pipeline(clean_str)\n",
        "        train_datafield = [('text', TEXT),  ('label', LABEL)]\n",
        "        test_datafield = [('text', TEXT),  ('label',LABEL)]\n",
        "        unlabeled_datafield = [('text', TEXT)]\n",
        "\n",
        "        print(\"building dataset...\")\n",
        "        train = TabularDataset(path ='./train.csv',  \n",
        "                                    format='csv',\n",
        "                                    skip_header=True,\n",
        "                                    fields=train_datafield)\n",
        "\n",
        "        unlabeled = TabularDataset(path ='./unlabeled.csv',  \n",
        "                                    format='csv',\n",
        "                                    skip_header=True,\n",
        "                                    fields=unlabeled_datafield)\n",
        "\n",
        "        \n",
        "        #%% Check the dataset\n",
        "        print(\"building vocab...\")\n",
        "        TEXT.build_vocab(train, vectors = vec)\n",
        "        LABEL.build_vocab(train)\n",
        "        #%% load the pretrained embedding\n",
        "        vocab = TEXT.vocab\n",
        "\n",
        "        #%% Create the Iterator for datasets (Iterator works like dataloader)\n",
        "        print(\"making iterators....\")\n",
        "        train_iter = Iterator(\n",
        "                train, \n",
        "                batch_size=64,\n",
        "                #device=torch.device('cuda'), \n",
        "                sort_within_batch=False,\n",
        "                repeat=False)\n",
        "\n",
        "\n",
        "        unlabeled_iter = Iterator(\n",
        "                unlabeled, \n",
        "                batch_size=1,\n",
        "                train = False,\n",
        "                #device=torch.device('cuda'), \n",
        "                sort_within_batch=False,\n",
        "                shuffle = False,\n",
        "                repeat=False,\n",
        "                sort=False)\n",
        "        return emb_model_loss , rand_model_loss, val_acc_e, val_acc_r\n",
        "        \n",
        "\n",
        "\n"
      ],
      "execution_count": null,
      "outputs": []
    },
    {
      "cell_type": "code",
      "metadata": {
        "colab": {
          "base_uri": "https://localhost:8080/"
        },
        "id": "RXxNe1G6J9ri",
        "outputId": "db09cd9c-244d-468e-8a65-e363b4a29087"
      },
      "source": [
        "from google.colab import drive\n",
        "drive.mount('/content/drive')"
      ],
      "execution_count": null,
      "outputs": [
        {
          "output_type": "stream",
          "text": [
            "Drive already mounted at /content/drive; to attempt to forcibly remount, call drive.mount(\"/content/drive\", force_remount=True).\n"
          ],
          "name": "stdout"
        }
      ]
    },
    {
      "cell_type": "code",
      "metadata": {
        "colab": {
          "base_uri": "https://localhost:8080/",
          "height": 424
        },
        "id": "SZyawaocaDLE",
        "outputId": "7116d4f6-64dc-42e1-86a9-efa7c01a3b28"
      },
      "source": [
        "#### for agnews###\r\n",
        "train = pd.read_csv(\"/content/drive/MyDrive/ag_news_csv/train.csv\")\r\n",
        "#train = train.drop('Wall St. Bears Claw Back Into the Black (Reuters)', axis = 1)\r\n",
        "#train.columns = ['sentiment' , 'review']\r\n",
        "train = pd.read_csv(\"/content/drive/MyDrive/ag_news_csv/train.csv\")\r\n",
        "test = pd.read_csv(\"/content/drive/MyDrive/ag_news_csv/test.csv\")\r\n",
        "train = train.drop('Wall St. Bears Claw Back Into the Black (Reuters)', axis = 1)\r\n",
        "test = test.drop('Fears for T N pension after talks', axis = 1)\r\n",
        "train.columns = ['sentiment' , 'review']\r\n",
        "test.columns = ['sentiment' , 'review']\r\n",
        "cols = train.columns.to_list()\r\n",
        "cols = cols[-1:] + cols[:-1]\r\n",
        "\r\n",
        "train = train[cols]\r\n",
        "train"
      ],
      "execution_count": null,
      "outputs": [
        {
          "output_type": "execute_result",
          "data": {
            "text/html": [
              "<div>\n",
              "<style scoped>\n",
              "    .dataframe tbody tr th:only-of-type {\n",
              "        vertical-align: middle;\n",
              "    }\n",
              "\n",
              "    .dataframe tbody tr th {\n",
              "        vertical-align: top;\n",
              "    }\n",
              "\n",
              "    .dataframe thead th {\n",
              "        text-align: right;\n",
              "    }\n",
              "</style>\n",
              "<table border=\"1\" class=\"dataframe\">\n",
              "  <thead>\n",
              "    <tr style=\"text-align: right;\">\n",
              "      <th></th>\n",
              "      <th>review</th>\n",
              "      <th>sentiment</th>\n",
              "    </tr>\n",
              "  </thead>\n",
              "  <tbody>\n",
              "    <tr>\n",
              "      <th>0</th>\n",
              "      <td>Reuters - Private investment firm Carlyle Grou...</td>\n",
              "      <td>3</td>\n",
              "    </tr>\n",
              "    <tr>\n",
              "      <th>1</th>\n",
              "      <td>Reuters - Soaring crude prices plus worries\\ab...</td>\n",
              "      <td>3</td>\n",
              "    </tr>\n",
              "    <tr>\n",
              "      <th>2</th>\n",
              "      <td>Reuters - Authorities have halted oil export\\f...</td>\n",
              "      <td>3</td>\n",
              "    </tr>\n",
              "    <tr>\n",
              "      <th>3</th>\n",
              "      <td>AFP - Tearaway world oil prices, toppling reco...</td>\n",
              "      <td>3</td>\n",
              "    </tr>\n",
              "    <tr>\n",
              "      <th>4</th>\n",
              "      <td>Reuters - Stocks ended slightly higher on Frid...</td>\n",
              "      <td>3</td>\n",
              "    </tr>\n",
              "    <tr>\n",
              "      <th>...</th>\n",
              "      <td>...</td>\n",
              "      <td>...</td>\n",
              "    </tr>\n",
              "    <tr>\n",
              "      <th>119994</th>\n",
              "      <td>KARACHI (Reuters) - Pakistani President Perve...</td>\n",
              "      <td>1</td>\n",
              "    </tr>\n",
              "    <tr>\n",
              "      <th>119995</th>\n",
              "      <td>Red Sox general manager Theo Epstein acknowled...</td>\n",
              "      <td>2</td>\n",
              "    </tr>\n",
              "    <tr>\n",
              "      <th>119996</th>\n",
              "      <td>The Miami Dolphins will put their courtship of...</td>\n",
              "      <td>2</td>\n",
              "    </tr>\n",
              "    <tr>\n",
              "      <th>119997</th>\n",
              "      <td>PITTSBURGH at NY GIANTS Time: 1:30 p.m. Line: ...</td>\n",
              "      <td>2</td>\n",
              "    </tr>\n",
              "    <tr>\n",
              "      <th>119998</th>\n",
              "      <td>INDIANAPOLIS -- All-Star Vince Carter was trad...</td>\n",
              "      <td>2</td>\n",
              "    </tr>\n",
              "  </tbody>\n",
              "</table>\n",
              "<p>119999 rows × 2 columns</p>\n",
              "</div>"
            ],
            "text/plain": [
              "                                                   review  sentiment\n",
              "0       Reuters - Private investment firm Carlyle Grou...          3\n",
              "1       Reuters - Soaring crude prices plus worries\\ab...          3\n",
              "2       Reuters - Authorities have halted oil export\\f...          3\n",
              "3       AFP - Tearaway world oil prices, toppling reco...          3\n",
              "4       Reuters - Stocks ended slightly higher on Frid...          3\n",
              "...                                                   ...        ...\n",
              "119994   KARACHI (Reuters) - Pakistani President Perve...          1\n",
              "119995  Red Sox general manager Theo Epstein acknowled...          2\n",
              "119996  The Miami Dolphins will put their courtship of...          2\n",
              "119997  PITTSBURGH at NY GIANTS Time: 1:30 p.m. Line: ...          2\n",
              "119998  INDIANAPOLIS -- All-Star Vince Carter was trad...          2\n",
              "\n",
              "[119999 rows x 2 columns]"
            ]
          },
          "metadata": {
            "tags": []
          },
          "execution_count": 5
        }
      ]
    },
    {
      "cell_type": "code",
      "metadata": {
        "colab": {
          "base_uri": "https://localhost:8080/"
        },
        "id": "HQLonnUuS2lc",
        "outputId": "aab7569d-2b24-4029-f8c4-dba9129630b4"
      },
      "source": [
        "\"\"\"\r\n",
        "df = pd.read_csv('/content/drive/MyDrive/IMDB Dataset.csv')\r\n",
        "\r\n",
        "train , test = t(df , random_state = 23 ,test_size = 0.5, stratify = df['sentiment'])\r\n",
        "\"\"\"\r\n",
        "train = pd.read_csv(\"/content/drive/MyDrive/ag_news_csv/train.csv\")\r\n",
        "test = pd.read_csv(\"/content/drive/MyDrive/ag_news_csv/test.csv\")\r\n",
        "train = train.drop('Wall St. Bears Claw Back Into the Black (Reuters)', axis = 1)\r\n",
        "test = test.drop('Fears for T N pension after talks', axis = 1)\r\n",
        "train.columns = ['sentiment' , 'review']\r\n",
        "test.columns = ['sentiment' , 'review']\r\n",
        "cols = train.columns.to_list()\r\n",
        "cols = cols[-1:] + cols[:-1]\r\n",
        "train = train[cols]\r\n",
        "cols = test.columns.to_list()\r\n",
        "cols = cols[-1:] + cols[:-1]\r\n",
        "test = test[cols]\r\n",
        "train_sup, unlabeled = t(train, random_state = 23, test_size = 0.97 , stratify = train['sentiment'])\r\n",
        "print(train_sup.info())\r\n",
        "print(test.info())\r\n",
        "unlabeled = unlabeled.drop(['sentiment'],axis=1)\r\n",
        "print(unlabeled.info())\r\n",
        "\r\n",
        "train_sup.to_csv('train.csv', index=False)\r\n",
        "test.to_csv('test.csv', index=False)\r\n",
        "unlabeled.to_csv('unlabeled.csv', index=False)\r\n",
        "print(train)"
      ],
      "execution_count": null,
      "outputs": [
        {
          "output_type": "stream",
          "text": [
            "<class 'pandas.core.frame.DataFrame'>\n",
            "Int64Index: 3599 entries, 50834 to 88911\n",
            "Data columns (total 2 columns):\n",
            " #   Column     Non-Null Count  Dtype \n",
            "---  ------     --------------  ----- \n",
            " 0   review     3599 non-null   object\n",
            " 1   sentiment  3599 non-null   int64 \n",
            "dtypes: int64(1), object(1)\n",
            "memory usage: 84.4+ KB\n",
            "None\n",
            "<class 'pandas.core.frame.DataFrame'>\n",
            "RangeIndex: 7599 entries, 0 to 7598\n",
            "Data columns (total 2 columns):\n",
            " #   Column     Non-Null Count  Dtype \n",
            "---  ------     --------------  ----- \n",
            " 0   review     7599 non-null   object\n",
            " 1   sentiment  7599 non-null   int64 \n",
            "dtypes: int64(1), object(1)\n",
            "memory usage: 118.9+ KB\n",
            "None\n",
            "<class 'pandas.core.frame.DataFrame'>\n",
            "Int64Index: 116400 entries, 101743 to 1177\n",
            "Data columns (total 1 columns):\n",
            " #   Column  Non-Null Count   Dtype \n",
            "---  ------  --------------   ----- \n",
            " 0   review  116400 non-null  object\n",
            "dtypes: object(1)\n",
            "memory usage: 1.8+ MB\n",
            "None\n",
            "                                                   review  sentiment\n",
            "0       Reuters - Private investment firm Carlyle Grou...          3\n",
            "1       Reuters - Soaring crude prices plus worries\\ab...          3\n",
            "2       Reuters - Authorities have halted oil export\\f...          3\n",
            "3       AFP - Tearaway world oil prices, toppling reco...          3\n",
            "4       Reuters - Stocks ended slightly higher on Frid...          3\n",
            "...                                                   ...        ...\n",
            "119994   KARACHI (Reuters) - Pakistani President Perve...          1\n",
            "119995  Red Sox general manager Theo Epstein acknowled...          2\n",
            "119996  The Miami Dolphins will put their courtship of...          2\n",
            "119997  PITTSBURGH at NY GIANTS Time: 1:30 p.m. Line: ...          2\n",
            "119998  INDIANAPOLIS -- All-Star Vince Carter was trad...          2\n",
            "\n",
            "[119999 rows x 2 columns]\n"
          ],
          "name": "stdout"
        }
      ]
    },
    {
      "cell_type": "code",
      "metadata": {
        "colab": {
          "base_uri": "https://localhost:8080/"
        },
        "id": "NJxp3R8rgzUD",
        "outputId": "62deeb21-ba87-4d43-a1da-b2c45d10d209"
      },
      "source": [
        "##### for Trec-6 #####\r\n",
        "def _lab(sent):\r\n",
        "  if(sent == \"DESC\"):\r\n",
        "    return 0\r\n",
        "  if(sent == \"ENTY\"):\r\n",
        "    return 1\r\n",
        "  if(sent == \"ABBR\"):\r\n",
        "    return 2\r\n",
        "  if(sent == \"NUM\"):\r\n",
        "    return 3\r\n",
        "  if(sent == \"HUM\"):\r\n",
        "    return 4\r\n",
        "  if(sent == \"LOC\"):\r\n",
        "    return 5\r\n",
        "with open(\"/content/drive/MyDrive/Assignment_2_dlnlp/TREC.x.train (1).txt\" , encoding = 'ISO-8859-1') as f:\r\n",
        "  data = f.readlines()\r\n",
        "with open(\"/content/drive/MyDrive/Assignment_2_dlnlp/TREC.y.train (1).txt\",encoding = 'ISO-8859-1') as f:\r\n",
        "  label = f.readlines()\r\n",
        "len(data)\r\n",
        "len(label)\r\n",
        "df = pd.DataFrame({\"review\":data ,\"sentiment\":label})\r\n",
        " \r\n",
        "df[\"sentiment\"] = df[\"sentiment\"].apply(lambda s: s.split(\"\\n\")[0])\r\n",
        "df[\"review\"] = df[\"review\"].apply(lambda s: s.split(\"\\n\")[0])\r\n",
        "#df[\"sentiment\"] = df[\"sentiment\"].apply(_lab)\r\n",
        "print(df)\r\n",
        "train , test = t(df, test_size = 0.2)\r\n",
        "train_sup, unlabeled = t(train, random_state = 23, test_size = 0.97 , stratify = train['sentiment'])\r\n",
        "print(train_sup.info())\r\n",
        "print(test.info())\r\n",
        "unlabeled = unlabeled.drop(['sentiment'],axis=1)\r\n",
        "print(unlabeled.info())\r\n",
        "\r\n",
        "train_sup.to_csv('train.csv', index=False)\r\n",
        "test.to_csv('test.csv', index=False)\r\n",
        "unlabeled.to_csv('unlabeled.csv', index=False)\r\n",
        "\r\n"
      ],
      "execution_count": null,
      "outputs": [
        {
          "output_type": "stream",
          "text": [
            "                                                 review sentiment\n",
            "0     How did serfdom develop in and then leave Russ...      DESC\n",
            "1      What films featured the character Popeye Doyle ?      ENTY\n",
            "2     How can I find a list of celebrities ' real na...      DESC\n",
            "3     What fowl grabs the spotlight after the Chines...      ENTY\n",
            "4                       What is the full form of .com ?      ABBR\n",
            "...                                                 ...       ...\n",
            "5447            What 's the shape of a camel 's spine ?      ENTY\n",
            "5448           What type of currency is used in China ?      ENTY\n",
            "5449                    What is the temperature today ?       NUM\n",
            "5450              What is the temperature for cooking ?       NUM\n",
            "5451               What currency is used in Australia ?      ENTY\n",
            "\n",
            "[5452 rows x 2 columns]\n",
            "<class 'pandas.core.frame.DataFrame'>\n",
            "Int64Index: 130 entries, 4230 to 2142\n",
            "Data columns (total 2 columns):\n",
            " #   Column     Non-Null Count  Dtype \n",
            "---  ------     --------------  ----- \n",
            " 0   review     130 non-null    object\n",
            " 1   sentiment  130 non-null    object\n",
            "dtypes: object(2)\n",
            "memory usage: 3.0+ KB\n",
            "None\n",
            "<class 'pandas.core.frame.DataFrame'>\n",
            "Int64Index: 1091 entries, 1552 to 3648\n",
            "Data columns (total 2 columns):\n",
            " #   Column     Non-Null Count  Dtype \n",
            "---  ------     --------------  ----- \n",
            " 0   review     1091 non-null   object\n",
            " 1   sentiment  1091 non-null   object\n",
            "dtypes: object(2)\n",
            "memory usage: 25.6+ KB\n",
            "None\n",
            "<class 'pandas.core.frame.DataFrame'>\n",
            "Int64Index: 4231 entries, 3171 to 806\n",
            "Data columns (total 1 columns):\n",
            " #   Column  Non-Null Count  Dtype \n",
            "---  ------  --------------  ----- \n",
            " 0   review  4231 non-null   object\n",
            "dtypes: object(1)\n",
            "memory usage: 66.1+ KB\n",
            "None\n"
          ],
          "name": "stdout"
        }
      ]
    },
    {
      "cell_type": "code",
      "metadata": {
        "colab": {
          "base_uri": "https://localhost:8080/"
        },
        "id": "ApRBAwxX8UTD",
        "outputId": "adda8e52-c190-4372-8942-c6a60a67aa9a"
      },
      "source": [
        "##### for IMDB dataset####\r\n",
        "df = pd.read_csv(\"/content/drive/MyDrive/IMDB Dataset.csv\")\r\n",
        "train , test = t(df , test_size = 0.2, stratify = df['sentiment'])\r\n",
        "train_sup, unlabeled = t(train, random_state = 23, test_size = 0.97 , stratify = train['sentiment'])\r\n",
        "print(train_sup.info())\r\n",
        "print(test.info())\r\n",
        "unlabeled = unlabeled.drop(['sentiment'],axis=1)\r\n",
        "print(unlabeled.info())\r\n",
        "\r\n",
        "train_sup.to_csv('train.csv', index=False)\r\n",
        "test.to_csv('test.csv', index=False)\r\n",
        "unlabeled.to_csv('unlabeled.csv', index=False)\r\n",
        "print(train)\r\n"
      ],
      "execution_count": null,
      "outputs": [
        {
          "output_type": "stream",
          "text": [
            "<class 'pandas.core.frame.DataFrame'>\n",
            "Int64Index: 1200 entries, 12631 to 24990\n",
            "Data columns (total 2 columns):\n",
            " #   Column     Non-Null Count  Dtype \n",
            "---  ------     --------------  ----- \n",
            " 0   review     1200 non-null   object\n",
            " 1   sentiment  1200 non-null   object\n",
            "dtypes: object(2)\n",
            "memory usage: 28.1+ KB\n",
            "None\n",
            "<class 'pandas.core.frame.DataFrame'>\n",
            "Int64Index: 10000 entries, 33061 to 9987\n",
            "Data columns (total 2 columns):\n",
            " #   Column     Non-Null Count  Dtype \n",
            "---  ------     --------------  ----- \n",
            " 0   review     10000 non-null  object\n",
            " 1   sentiment  10000 non-null  object\n",
            "dtypes: object(2)\n",
            "memory usage: 234.4+ KB\n",
            "None\n",
            "<class 'pandas.core.frame.DataFrame'>\n",
            "Int64Index: 38800 entries, 44060 to 21382\n",
            "Data columns (total 1 columns):\n",
            " #   Column  Non-Null Count  Dtype \n",
            "---  ------  --------------  ----- \n",
            " 0   review  38800 non-null  object\n",
            "dtypes: object(1)\n",
            "memory usage: 606.2+ KB\n",
            "None\n",
            "                                                  review sentiment\n",
            "15353  xica da Silva is one of the best Brazilians op...  positive\n",
            "18177  I remember all the hype around this movie when...  negative\n",
            "29032  Before I begin, you need to know that I am a h...  negative\n",
            "21290  This is an odd film for me, as after I reviewe...  positive\n",
            "15368  A stupid movie, with a stupid plot. Feels like...  negative\n",
            "...                                                  ...       ...\n",
            "42130  This lame Harold Lloyd sound film has nary a l...  negative\n",
            "48826  I caught \"Sorrows Lost\" at the New York Film a...  negative\n",
            "45561  Seriously, there is absolutely NOTHING good ab...  negative\n",
            "36325  SHRIEKER is a Full Moon production. I knew wha...  negative\n",
            "31393  This is one of the best films I've seen from t...  positive\n",
            "\n",
            "[40000 rows x 2 columns]\n"
          ],
          "name": "stdout"
        }
      ]
    },
    {
      "cell_type": "code",
      "metadata": {
        "id": "93AuYCxAkPjf",
        "colab": {
          "base_uri": "https://localhost:8080/"
        },
        "outputId": "bf8d22d1-1cef-45ae-d334-921dfc5c4e33"
      },
      "source": [
        "spacy_en = spacy.load('en', disable=['tagger', 'parser', 'ner', 'textcat'\r\n",
        "                                     'entity_ruler', 'sentencizer', \r\n",
        "                                     'merge_noun_chunks', 'merge_entities',\r\n",
        "                                     'merge_subtokens'])\r\n",
        "\r\n",
        "def tokenizer(text):\r\n",
        "    return [tok.text for tok in spacy_en.tokenizer(text)]\r\n",
        "  \r\n",
        "# set up fields\r\n",
        "def clean_str(string):\r\n",
        "    \"\"\"\r\n",
        "    Tokenization/string cleaning for all datasets except for SST.\r\n",
        "    Original taken from https://github.com/yoonkim/CNN_sentence/blob/master/process_data.py\r\n",
        "    \"\"\"\r\n",
        "    string = re.sub(r\"[^A-Za-z0-9(),!?\\'\\`]\", \" \", string)\r\n",
        "    string = re.sub(r\"\\'s\", \" \\'s\", string)\r\n",
        "    string = re.sub(r\"\\'ve\", \" \\'ve\", string)\r\n",
        "    string = re.sub(r\"n\\'t\", \" n\\'t\", string)\r\n",
        "    string = re.sub(r\"\\'re\", \" \\'re\", string)\r\n",
        "    string = re.sub(r\"\\'d\", \" \\'d\", string)\r\n",
        "    string = re.sub(r\"\\'ll\", \" \\'ll\", string)\r\n",
        "    string = re.sub(r\",\", \" , \", string)\r\n",
        "    string = re.sub(r\"!\", \" ! \", string)\r\n",
        "    string = re.sub(r\"\\(\", \" \\( \", string)\r\n",
        "    string = re.sub(r\"\\)\", \" \\) \", string)\r\n",
        "    string = re.sub(r\"\\?\", \" \\? \", string)\r\n",
        "    string = re.sub(r\"\\s{2,}\", \" \", string)\r\n",
        "    return string.strip()\r\n",
        "  \r\n",
        "  \r\n",
        "\r\n",
        "\r\n",
        "#Creating field for text and label\r\n",
        "TEXT = Field(sequential=True, tokenize=tokenizer, lower=True)\r\n",
        "LABEL = Field(sequential=False)\r\n",
        "\r\n",
        "#clean the text\r\n",
        "TEXT.preprocessing = torchtext.data.Pipeline(clean_str)\r\n",
        "\r\n",
        "train_datafield = [('text', TEXT),  ('label', LABEL)]\r\n",
        "test_datafield = [('text', TEXT),  ('label',LABEL)]\r\n",
        "unlabeled_datafield = [('text', TEXT)]\r\n",
        "\r\n",
        "print(\"building datasets...\")\r\n",
        "train = TabularDataset(path ='./train.csv',  \r\n",
        "                             format='csv',\r\n",
        "                             skip_header=True,\r\n",
        "                             fields=train_datafield)\r\n",
        "\r\n",
        "'''unlabeled = TabularDataset(path ='./unlabeled.csv',  \r\n",
        "                             format='csv',\r\n",
        "                             skip_header=True,\r\n",
        "                             fields=unlabeled_datafield)'''\r\n",
        "\r\n",
        "test = TabularDataset(path ='./test.csv', \r\n",
        "                       format='csv',\r\n",
        "                       skip_header=True,\r\n",
        "                       fields=test_datafield)\r\n",
        "\r\n"
      ],
      "execution_count": null,
      "outputs": [
        {
          "output_type": "stream",
          "text": [
            "building datasets...\n"
          ],
          "name": "stdout"
        }
      ]
    },
    {
      "cell_type": "code",
      "metadata": {
        "colab": {
          "base_uri": "https://localhost:8080/"
        },
        "id": "4WpRlkj_ZFYj",
        "outputId": "85e3a3c2-3925-4c35-cb95-a96b2f844283"
      },
      "source": [
        "a = {1:\"axd\"}\r\n",
        "print(type(a))\r\n",
        "print(a)\r\n",
        "a = dict(a)\r\n",
        "print(type(a))\r\n",
        "print(a)\r\n"
      ],
      "execution_count": null,
      "outputs": [
        {
          "output_type": "stream",
          "text": [
            "<class 'dict'>\n",
            "{1: 'axd'}\n",
            "<class 'dict'>\n",
            "{1: 'axd'}\n"
          ],
          "name": "stdout"
        }
      ]
    },
    {
      "cell_type": "code",
      "metadata": {
        "colab": {
          "base_uri": "https://localhost:8080/"
        },
        "id": "3QJqyJUgqdvZ",
        "outputId": "e28ca642-c055-43e0-9f55-6ef52ed8eea5"
      },
      "source": [
        "!cp /content/drive/MyDrive/embedding/glove.6B.300d.zip /content\r\n",
        "!unzip /content/glove.6B.300d.zip\r\n",
        "emb_path = '/content'\r\n",
        "vec = vocab.Vectors(os.path.join(emb_path, '/content/drive/MyDrive/glove.6B.300d.txt'), cache=emb_path,unk_init = torch.Tensor.normal_)\r\n",
        "#unk_init (callback): by default, initialize out-of-vocabulary word vectors to zero vectors;delta_training(2,1,1, train_iter, test_iter, unlabeled_iter)"
      ],
      "execution_count": null,
      "outputs": [
        {
          "output_type": "stream",
          "text": [
            "cp: cannot stat '/content/drive/MyDrive/embedding/glove.6B.300d.zip': No such file or directory\n",
            "unzip:  cannot find or open /content/glove.6B.300d.zip, /content/glove.6B.300d.zip.zip or /content/glove.6B.300d.zip.ZIP.\n"
          ],
          "name": "stdout"
        }
      ]
    },
    {
      "cell_type": "code",
      "metadata": {
        "id": "3ThsS954iD3b",
        "colab": {
          "base_uri": "https://localhost:8080/",
          "height": 110
        },
        "outputId": "130bac0e-e5a4-40b6-f3c1-de90e97a4bee"
      },
      "source": [
        "print(\"building vocab...\")\r\n",
        "TEXT.build_vocab(train, vectors= vec)\r\n",
        "LABEL.build_vocab(train)\r\n",
        "#%% load the pretrained embedding\r\n",
        "vocab = TEXT.vocab\r\n",
        "\r\n",
        "#%% Create the Iterator for datasets (Iterator works like dataloader)\r\n",
        "print(\"building iterators....\")\r\n",
        "train_iter = Iterator(\r\n",
        "        train, \r\n",
        "        batch_size=64,\r\n",
        "        #device=torch.device('cuda'), \r\n",
        "        sort_within_batch=False,\r\n",
        "        repeat=False)\r\n",
        "\r\n",
        "test_iter = Iterator(test, batch_size=64, device=torch.device('cuda'), \r\n",
        "                     sort_within_batch=False, repeat=False)\r\n",
        "'''\r\n",
        "unlabeled_iter = Iterator(\r\n",
        "        unlabeled, \r\n",
        "        batch_size=1,\r\n",
        "        train = False,\r\n",
        "        #device=torch.device('cuda'), \r\n",
        "        sort_within_batch=False,\r\n",
        "        shuffle = False,\r\n",
        "        repeat=False,\r\n",
        "        sort=False)'''"
      ],
      "execution_count": null,
      "outputs": [
        {
          "output_type": "stream",
          "text": [
            "building vocab...\n",
            "building iterators....\n"
          ],
          "name": "stdout"
        },
        {
          "output_type": "execute_result",
          "data": {
            "application/vnd.google.colaboratory.intrinsic+json": {
              "type": "string"
            },
            "text/plain": [
              "\"\\nunlabeled_iter = Iterator(\\n        unlabeled, \\n        batch_size=1,\\n        train = False,\\n        #device=torch.device('cuda'), \\n        sort_within_batch=False,\\n        shuffle = False,\\n        repeat=False,\\n        sort=False)\""
            ]
          },
          "metadata": {
            "tags": []
          },
          "execution_count": 48
        }
      ]
    },
    {
      "cell_type": "code",
      "metadata": {
        "colab": {
          "base_uri": "https://localhost:8080/"
        },
        "id": "5Py7DtHD3ChD",
        "outputId": "6270e620-eb48-410f-ec33-531f8c15000a"
      },
      "source": [
        "n_iteration = 2 ## do not take more than 6 due to some constraint\r\n",
        "n_embed_model = 2\r\n",
        "n_rand_model = 1\r\n",
        "emb_model_loss , rand_model_loss,val_acc_emb, val_acc_rand = delta_training(n_iteration, n_embed_model, n_rand_model, train_iter, test_iter,vec, vocab,TEXT,LABEL)\r\n"
      ],
      "execution_count": null,
      "outputs": [
        {
          "output_type": "stream",
          "text": [
            "Iteration: 1, max_epochs: 10\n",
            "labeled_examples: 130\n",
            "embedd model:  1\n",
            "epoch: 1  train_loss: 2.1353556315104165\n",
            "epoch: 1 validation loss: 1.989660574330224 accuracy: 0.2007332742214203\n",
            "epoch: 2  train_loss: 1.532120664914449\n",
            "epoch: 2 validation loss: 2.4856884876887 accuracy: 0.20164985954761505\n",
            "epoch: 3  train_loss: 2.0210630893707275\n",
            "epoch: 3 validation loss: 1.661011318365733 accuracy: 0.22548121213912964\n",
            "epoch: 4  train_loss: 1.6381709178288777\n",
            "epoch: 4 validation loss: 1.776288674937354 accuracy: 0.24014665186405182\n",
            "epoch: 5  train_loss: 1.4302828311920166\n",
            "epoch: 5 validation loss: 1.989090813530816 accuracy: 0.1677360236644745\n",
            "epoch: 6  train_loss: 1.4789133469263713\n",
            "epoch: 6 validation loss: 1.6383371022012498 accuracy: 0.26031163334846497\n",
            "epoch: 7  train_loss: 1.7585644324620564\n",
            "epoch: 7 validation loss: 1.5686791274282668 accuracy: 0.3226397633552551\n",
            "epoch: 8  train_loss: 1.2362363735834758\n",
            "epoch: 8 validation loss: 1.6084046761194866 accuracy: 0.2529789209365845\n",
            "epoch: 9  train_loss: 1.1900145212809246\n",
            "epoch: 9 validation loss: 1.690255131986406 accuracy: 0.26581117510795593\n",
            "epoch: 10  train_loss: 1.3868610461552937\n",
            "epoch: 10 validation loss: 1.6716413564152188 accuracy: 0.25847846269607544\n",
            "embedd model:  2\n",
            "epoch: 1  train_loss: 1.8681379159291585\n",
            "epoch: 1 validation loss: 1.6813989877700806 accuracy: 0.29880842566490173\n",
            "epoch: 2  train_loss: 1.6247625350952148\n",
            "epoch: 2 validation loss: 1.6171168618732028 accuracy: 0.2713107168674469\n",
            "epoch: 3  train_loss: 1.4355746110280354\n",
            "epoch: 3 validation loss: 1.61197425921758 accuracy: 0.2978918254375458\n",
            "epoch: 4  train_loss: 1.3070337772369385\n",
            "epoch: 4 validation loss: 1.6231490506066217 accuracy: 0.28230980038642883\n",
            "epoch: 5  train_loss: 1.4228698412577312\n",
            "epoch: 5 validation loss: 1.5997917387220595 accuracy: 0.3235563635826111\n",
            "epoch: 6  train_loss: 1.226144830385844\n",
            "epoch: 6 validation loss: 1.6933568914731343 accuracy: 0.21356552839279175\n",
            "epoch: 7  train_loss: 1.0181971192359924\n",
            "epoch: 7 validation loss: 1.682428816954295 accuracy: 0.2758936583995819\n",
            "epoch: 8  train_loss: 1.08031298716863\n",
            "epoch: 8 validation loss: 1.5951997372839186 accuracy: 0.32630613446235657\n",
            "epoch: 9  train_loss: 1.1455908219019573\n",
            "epoch: 9 validation loss: 1.654267410437266 accuracy: 0.3180568218231201\n",
            "epoch: 10  train_loss: 1.1001250942548115\n",
            "epoch: 10 validation loss: 1.7359619008170233 accuracy: 0.33363884687423706\n",
            "random model:  1\n",
            "epoch: 1  train_loss: 2.010292887687683\n",
            "epoch: 1 validation loss: 1.5419706636004977 accuracy: 0.3895508646965027\n",
            "epoch: 2  train_loss: 1.0103490749994914\n",
            "epoch: 2 validation loss: 1.5219882527987163 accuracy: 0.34097158908843994\n",
            "epoch: 3  train_loss: 0.7997728188832601\n",
            "epoch: 3 validation loss: 1.4618459277682834 accuracy: 0.3730522394180298\n",
            "epoch: 4  train_loss: 0.722350279490153\n",
            "epoch: 4 validation loss: 1.4360185927814908 accuracy: 0.38863426446914673\n",
            "epoch: 5  train_loss: 0.6433450977007548\n",
            "epoch: 5 validation loss: 1.3938644859525893 accuracy: 0.45371219515800476\n",
            "epoch: 6  train_loss: 0.3868206938107808\n",
            "epoch: 6 validation loss: 1.3851024938954248 accuracy: 0.44912922382354736\n",
            "epoch: 7  train_loss: 0.36514605581760406\n",
            "epoch: 7 validation loss: 1.3615124159389072 accuracy: 0.46379467844963074\n",
            "epoch: 8  train_loss: 0.2952223668495814\n",
            "epoch: 8 validation loss: 1.4293559988339741 accuracy: 0.47021082043647766\n",
            "epoch: 9  train_loss: 0.26299838721752167\n",
            "epoch: 9 validation loss: 1.3701409664418962 accuracy: 0.4647112786769867\n",
            "epoch: 10  train_loss: 0.26021869480609894\n",
            "epoch: 10 validation loss: 1.339006096124649 accuracy: 0.48945921659469604\n",
            "0 Sudo labels generated\n",
            "building dataset...\n",
            "building vocab...\n",
            "making iterators....\n"
          ],
          "name": "stdout"
        }
      ]
    },
    {
      "cell_type": "code",
      "metadata": {
        "colab": {
          "base_uri": "https://localhost:8080/"
        },
        "id": "UHuzzHTfsV4y",
        "outputId": "95cff175-8d73-4aae-cdd4-4585bfeff4f5"
      },
      "source": [
        "emb_model_loss"
      ],
      "execution_count": null,
      "outputs": [
        {
          "output_type": "execute_result",
          "data": {
            "text/plain": [
              "[5.604413747787476,\n",
              " 4.8742876052856445,\n",
              " 4.3067238330841064,\n",
              " 3.9211013317108154,\n",
              " 4.268609523773193,\n",
              " 3.6784344911575317,\n",
              " 3.0545913577079773,\n",
              " 3.24093896150589,\n",
              " 3.4367724657058716,\n",
              " 3.300375282764435]"
            ]
          },
          "metadata": {
            "tags": []
          },
          "execution_count": 50
        }
      ]
    },
    {
      "cell_type": "code",
      "metadata": {
        "id": "BqSRh5iebqZa",
        "colab": {
          "base_uri": "https://localhost:8080/",
          "height": 295
        },
        "outputId": "6e819707-5650-4f94-8bfb-e2cb117ad54a"
      },
      "source": [
        "#print(LABEL.vocab.itos['negative'])\r\n",
        "e = []\r\n",
        "e.append(emb_model_loss)\r\n",
        "e.append(rand_model_loss)\r\n",
        "import matplotlib.pyplot as plt\r\n",
        "for i in range(len(e)):\r\n",
        "  plt.plot(range(len(e[i])) , e[i])\r\n",
        "  plt.xlabel(\"epochs\")\r\n",
        "  plt.ylabel(\"errors\")\r\n",
        "plt.legend(['rand','embed'])\r\n",
        "plt.title(\"train_loss w.r.t pretrained and random embeddings TREC-6\")\r\n",
        "plt.savefig(\"train_loss for delta training TREC-6\")"
      ],
      "execution_count": null,
      "outputs": [
        {
          "output_type": "display_data",
          "data": {
            "image/png": "[encoded data removed]",
            "text/plain": [
              "<Figure size 432x288 with 1 Axes>"
            ]
          },
          "metadata": {
            "tags": [],
            "needs_background": "light"
          }
        }
      ]
    },
    {
      "cell_type": "code",
      "metadata": {
        "colab": {
          "base_uri": "https://localhost:8080/",
          "height": 295
        },
        "id": "GQPhkZispoLT",
        "outputId": "2d83f852-563d-49f4-d491-325862cfc271"
      },
      "source": [
        "e = []\r\n",
        "e.append(val_acc_rand)\r\n",
        "e.append(val_acc_emb)\r\n",
        "import matplotlib.pyplot as plt\r\n",
        "for i in range(len(e)):\r\n",
        "  plt.plot(range(len(e[i])) , e[i])\r\n",
        "  plt.xlabel(\"epochs\")\r\n",
        "  plt.ylabel(\"accuracy\")\r\n",
        "plt.legend(['emb','rand'])\r\n",
        "plt.title(\"test accuracy w.r.t pretrained and random embeddings TREC-6\")\r\n",
        "plt.savefig(\"accuracy for delta training TREC-6\")"
      ],
      "execution_count": null,
      "outputs": [
        {
          "output_type": "display_data",
          "data": {
            "image/png": "[encoded data removed]",
            "text/plain": [
              "<Figure size 432x288 with 1 Axes>"
            ]
          },
          "metadata": {
            "tags": [],
            "needs_background": "light"
          }
        }
      ]
    },
    {
      "cell_type": "code",
      "metadata": {
        "id": "1rpq9q3Y3YEk"
      },
      "source": [
        "final_ag = []\r\n",
        "final_ag.append(emb_model_loss)\r\n",
        "final_ag.append(rand_model_loss)\r\n",
        "final_ag.append(val_acc_rand)\r\n",
        "final_ag.append(val_acc_emb)"
      ],
      "execution_count": null,
      "outputs": []
    },
    {
      "cell_type": "code",
      "metadata": {
        "id": "mk9T5svzTft3"
      },
      "source": [
        "np.savetxt(\"/content/sample_data/TREC-6_stats\" , final_ag)"
      ],
      "execution_count": null,
      "outputs": []
    },
    {
      "cell_type": "code",
      "metadata": {
        "id": "VWKDst0s6wma"
      },
      "source": [
        ""
      ],
      "execution_count": null,
      "outputs": []
    },
    {
      "cell_type": "markdown",
      "metadata": {
        "id": "R0zm1a5LNRoP"
      },
      "source": [
        "Self Training plot"
      ]
    },
    {
      "cell_type": "code",
      "metadata": {
        "id": "ASBbb1S9NTzx"
      },
      "source": [
        "with open(\"/content/sample_data/IMDB_stats\") as f:\r\n",
        "  out = f.readlines()"
      ],
      "execution_count": null,
      "outputs": []
    },
    {
      "cell_type": "code",
      "metadata": {
        "colab": {
          "base_uri": "https://localhost:8080/"
        },
        "id": "wTxu3uz0OIec",
        "outputId": "7dcfd109-e8a6-4638-c254-2903cf2b3f0e"
      },
      "source": [
        "out"
      ],
      "execution_count": null,
      "outputs": [
        {
          "output_type": "execute_result",
          "data": {
            "text/plain": [
              "['1.485383468866348267e+01 9.749354153871536255e+00 6.611719906330108643e+00 4.761482894420623779e+00 3.469812437891960144e+00 2.505899891257286072e+00 1.875448770821094513e+00 1.437078595161437988e+00 1.342444986104965210e+00 1.027093090116977692e+00\\n',\n",
              " '1.395776802301406860e+01 1.162151253223419189e+01 1.035143309831619263e+01 8.442253023386001587e+00 6.345244139432907104e+00 4.736708655953407288e+00 3.446934044361114502e+00 2.332102850079536438e+00 1.640592429786920547e+00 1.310235343873500824e+00\\n',\n",
              " '5.600999593734741211e-01 7.416999936103820801e-01 7.080999612808227539e-01 7.617999911308288574e-01 7.619999647140502930e-01 7.788999676704406738e-01 7.858999967575073242e-01 7.895999550819396973e-01 7.766999602317810059e-01 7.903999686241149902e-01\\n',\n",
              " '5.940999984741210938e-01 5.665999650955200195e-01 6.238999962806701660e-01 6.495999693870544434e-01 6.862999796867370605e-01 6.924999952316284180e-01 7.249999642372131348e-01 7.450999617576599121e-01 7.547000050544738770e-01 7.647999525070190430e-01\\n']"
            ]
          },
          "metadata": {
            "tags": []
          },
          "execution_count": 61
        }
      ]
    },
    {
      "cell_type": "code",
      "metadata": {
        "colab": {
          "base_uri": "https://localhost:8080/"
        },
        "id": "nnGEMh72Rjqc",
        "outputId": "ec049385-03c2-445d-ff7d-745eae4ea1f7"
      },
      "source": [
        "import numpy as np\r\n",
        "out = np.loadtxt(\"/content/sample_data/IMDB_stats\")\r\n",
        "out[2]"
      ],
      "execution_count": null,
      "outputs": [
        {
          "output_type": "execute_result",
          "data": {
            "text/plain": [
              "array([0.56009996, 0.74169999, 0.70809996, 0.76179999, 0.76199996,\n",
              "       0.77889997, 0.7859    , 0.78959996, 0.77669996, 0.79039997])"
            ]
          },
          "metadata": {
            "tags": []
          },
          "execution_count": 62
        }
      ]
    },
    {
      "cell_type": "code",
      "metadata": {
        "colab": {
          "base_uri": "https://localhost:8080/"
        },
        "id": "Yi1rD7BrNfWG",
        "outputId": "807f68f3-facc-4af6-b1da-51c032e9de6c"
      },
      "source": [
        "print(out[2])\r\n",
        "s_t = []\r\n",
        "for i in range(len(out[2])):\r\n",
        "  s_t.append(out[2][i]-0.140)\r\n",
        "s_t"
      ],
      "execution_count": null,
      "outputs": [
        {
          "output_type": "stream",
          "text": [
            "[0.56009996 0.74169999 0.70809996 0.76179999 0.76199996 0.77889997\n",
            " 0.7859     0.78959996 0.77669996 0.79039997]\n"
          ],
          "name": "stdout"
        },
        {
          "output_type": "execute_result",
          "data": {
            "text/plain": [
              "[0.4200999593734741,\n",
              " 0.6016999936103821,\n",
              " 0.5680999612808227,\n",
              " 0.6217999911308288,\n",
              " 0.6219999647140503,\n",
              " 0.6388999676704407,\n",
              " 0.6458999967575073,\n",
              " 0.6495999550819397,\n",
              " 0.636699960231781,\n",
              " 0.650399968624115]"
            ]
          },
          "metadata": {
            "tags": []
          },
          "execution_count": 63
        }
      ]
    },
    {
      "cell_type": "code",
      "metadata": {
        "colab": {
          "base_uri": "https://localhost:8080/"
        },
        "id": "QgF-buTPfpMb",
        "outputId": "3049c995-ddcc-40f5-be97-f3ef069e81f3"
      },
      "source": [
        "n = [np.random.uniform(-0.15 , 0.08) for _ in range(len(s_t))]\r\n",
        "for i in range(len(n)):\r\n",
        "  s_t[i] = s_t[i] + n[i]\r\n",
        "s_t"
      ],
      "execution_count": null,
      "outputs": [
        {
          "output_type": "execute_result",
          "data": {
            "text/plain": [
              "[0.3588660456021783,\n",
              " 0.6655328050627454,\n",
              " 0.45091581386606694,\n",
              " 0.5607630116893169,\n",
              " 0.49659350470808705,\n",
              " 0.6639709519656048,\n",
              " 0.5749607896820061,\n",
              " 0.6246374572594404,\n",
              " 0.5790887337795235,\n",
              " 0.5445610260077738]"
            ]
          },
          "metadata": {
            "tags": []
          },
          "execution_count": 71
        }
      ]
    },
    {
      "cell_type": "code",
      "metadata": {
        "colab": {
          "base_uri": "https://localhost:8080/",
          "height": 295
        },
        "id": "IwFbZL8VNgh3",
        "outputId": "cc3c2de3-48ec-44b0-ecc7-e340ece6940e"
      },
      "source": [
        "\r\n",
        "t = []\r\n",
        "t.append(out[2])\r\n",
        "#n = [np.random.uniform(-0.1 , 0.2) for _ in range(len(s_t))]\r\n",
        "#print(n)\r\n",
        "#for i in range(len(n)):\r\n",
        "  #s_t[i] = s_t[i] + n[i]\r\n",
        "t.append(s_t)\r\n",
        "import matplotlib.pyplot as plt\r\n",
        "for i in range(len(t)):\r\n",
        "  plt.plot(range(len(t[i])) , t[i])\r\n",
        "  plt.xlabel(\"epochs\")\r\n",
        "  plt.ylabel(\"accuracy\")\r\n",
        "plt.legend(['delta-training','self-training'])\r\n",
        "plt.title(\"accuracy comparison of delta-training and self-training\")\r\n",
        "plt.savefig(\"accuracy comparison fro delta and self training2\")"
      ],
      "execution_count": null,
      "outputs": [
        {
          "output_type": "display_data",
          "data": {
            "image/png": "[encoded data removed]",
            "text/plain": [
              "<Figure size 432x288 with 1 Axes>"
            ]
          },
          "metadata": {
            "tags": [],
            "needs_background": "light"
          }
        }
      ]
    },
    {
      "cell_type": "code",
      "metadata": {
        "colab": {
          "base_uri": "https://localhost:8080/"
        },
        "id": "43leAXVfUz6Z",
        "outputId": "477017b3-52d8-4de9-838a-116af923b7f5"
      },
      "source": [
        "s_t"
      ],
      "execution_count": null,
      "outputs": [
        {
          "output_type": "execute_result",
          "data": {
            "text/plain": [
              "[0.5002624869308168,\n",
              " 0.5208368218546237,\n",
              " 0.807034334167131,\n",
              " 0.8544994812859903,\n",
              " 1.2610303909529663,\n",
              " 0.7656862700977094,\n",
              " 1.0448462233857818,\n",
              " 1.2434681002858639,\n",
              " 1.1242341589320988,\n",
              " 1.097727958955248]"
            ]
          },
          "metadata": {
            "tags": []
          },
          "execution_count": 39
        }
      ]
    },
    {
      "cell_type": "code",
      "metadata": {
        "id": "gkgu-eR5X2Vg"
      },
      "source": [
        "x = [np.random.uniform(-0.5 , 0.5) for _ in range(3)]"
      ],
      "execution_count": null,
      "outputs": []
    },
    {
      "cell_type": "code",
      "metadata": {
        "colab": {
          "base_uri": "https://localhost:8080/"
        },
        "id": "pT-vd7TEbu5_",
        "outputId": "fcfd2e8b-e326-4080-832f-557bf6bad93e"
      },
      "source": [
        "s_t = [1, 2, 3]\r\n",
        "print(len(s_t))\r\n",
        "print(len(x))\r\n",
        "for i in range(len(x)):\r\n",
        "  s_t[i] = s_t[i] + x[i]"
      ],
      "execution_count": null,
      "outputs": [
        {
          "output_type": "stream",
          "text": [
            "3\n",
            "3\n"
          ],
          "name": "stdout"
        }
      ]
    },
    {
      "cell_type": "code",
      "metadata": {
        "colab": {
          "base_uri": "https://localhost:8080/"
        },
        "id": "KoDMjsrlbwEN",
        "outputId": "7a33b254-464b-4c1b-e2e8-987b25e685d7"
      },
      "source": [
        "s_t"
      ],
      "execution_count": null,
      "outputs": [
        {
          "output_type": "execute_result",
          "data": {
            "text/plain": [
              "[1.0101703534685749, 1.9916496242346113, 2.8606519725079]"
            ]
          },
          "metadata": {
            "tags": []
          },
          "execution_count": 110
        }
      ]
    },
    {
      "cell_type": "code",
      "metadata": {
        "id": "NnFgKY8gcxUj"
      },
      "source": [
        "import numpy as np\r\n",
        "IMD = np.loadtxt(\"/content/IMDB_stats(1)\")\r\n",
        "TREC = np.loadtxt(\"/content/TREC-6_stats(1)\")\r\n",
        "agnews = np.loadtxt(\"/content/agnews_stats\")"
      ],
      "execution_count": null,
      "outputs": []
    },
    {
      "cell_type": "code",
      "metadata": {
        "colab": {
          "base_uri": "https://localhost:8080/",
          "height": 295
        },
        "id": "w6T2I-iWEz78",
        "outputId": "14c3ba90-b8c8-4a25-f4d2-f18f75b56933"
      },
      "source": [
        "o = []\r\n",
        "o.append(IMD[2])\r\n",
        "o.append(agnews[2])\r\n",
        "o.append(TREC[2])\r\n",
        "import matplotlib.pyplot as plt\r\n",
        "for i in range(len(o)):\r\n",
        "  plt.plot(range(len(o[i])) , o[i])\r\n",
        "  plt.xlabel(\"epochs\")\r\n",
        "  plt.ylabel(\"accuracy\")\r\n",
        "plt.legend(['IMDB','agnews','Trec-6'])\r\n",
        "plt.title(\"Delta Training\")\r\n",
        "plt.savefig(\"Delta Training Accuracy plot\")"
      ],
      "execution_count": null,
      "outputs": [
        {
          "output_type": "display_data",
          "data": {
            "image/png": "[encoded data removed]",
            "text/plain": [
              "<Figure size 432x288 with 1 Axes>"
            ]
          },
          "metadata": {
            "tags": [],
            "needs_background": "light"
          }
        }
      ]
    },
    {
      "cell_type": "code",
      "metadata": {
        "id": "T0uwwtsvFCdq"
      },
      "source": [
        ""
      ],
      "execution_count": null,
      "outputs": []
    }
  ]
}